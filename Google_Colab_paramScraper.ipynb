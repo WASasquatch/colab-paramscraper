{
  "nbformat": 4,
  "nbformat_minor": 0,
  "metadata": {
    "colab": {
      "provenance": [],
      "collapsed_sections": [],
      "authorship_tag": "ABX9TyMV8AglqhVYfwbsfrxY85SH",
      "include_colab_link": true
    },
    "kernelspec": {
      "name": "python3",
      "display_name": "Python 3"
    },
    "language_info": {
      "name": "python"
    }
  },
  "cells": [
    {
      "cell_type": "markdown",
      "metadata": {
        "id": "view-in-github",
        "colab_type": "text"
      },
      "source": [
        "<a href=\"https://colab.research.google.com/github/WASasquatch/colabparamscraper/blob/main/Google_Colab_paramScraper.ipynb\" target=\"_parent\"><img src=\"https://colab.research.google.com/assets/colab-badge.svg\" alt=\"Open In Colab\"/></a>"
      ]
    },
    {
      "cell_type": "code",
      "execution_count": 9,
      "metadata": {
        "colab": {
          "base_uri": "https://localhost:8080/"
        },
        "id": "1O_qkcvfsqOS",
        "outputId": "bc89e49b-911d-4996-80dc-d08e4b148c07"
      },
      "outputs": [
        {
          "output_type": "stream",
          "name": "stdout",
          "text": [
            "Cloning into 'colabparamscraper'...\n",
            "remote: Enumerating objects: 10, done.\u001b[K\n",
            "remote: Counting objects:  10% (1/10)\u001b[K\rremote: Counting objects:  20% (2/10)\u001b[K\rremote: Counting objects:  30% (3/10)\u001b[K\rremote: Counting objects:  40% (4/10)\u001b[K\rremote: Counting objects:  50% (5/10)\u001b[K\rremote: Counting objects:  60% (6/10)\u001b[K\rremote: Counting objects:  70% (7/10)\u001b[K\rremote: Counting objects:  80% (8/10)\u001b[K\rremote: Counting objects:  90% (9/10)\u001b[K\rremote: Counting objects: 100% (10/10)\u001b[K\rremote: Counting objects: 100% (10/10), done.\u001b[K\n",
            "remote: Compressing objects:  10% (1/10)\u001b[K\rremote: Compressing objects:  20% (2/10)\u001b[K\rremote: Compressing objects:  30% (3/10)\u001b[K\rremote: Compressing objects:  40% (4/10)\u001b[K\rremote: Compressing objects:  50% (5/10)\u001b[K\rremote: Compressing objects:  60% (6/10)\u001b[K\rremote: Compressing objects:  70% (7/10)\u001b[K\rremote: Compressing objects:  80% (8/10)\u001b[K\rremote: Compressing objects:  90% (9/10)\u001b[K\rremote: Compressing objects: 100% (10/10)\u001b[K\rremote: Compressing objects: 100% (10/10), done.\u001b[K\n",
            "remote: Total 10 (delta 2), reused 0 (delta 0), pack-reused 0\u001b[K\n",
            "Unpacking objects:  10% (1/10)   \rUnpacking objects:  20% (2/10)   \rUnpacking objects:  30% (3/10)   \rUnpacking objects:  40% (4/10)   \rUnpacking objects:  50% (5/10)   \rUnpacking objects:  60% (6/10)   \rUnpacking objects:  70% (7/10)   \rUnpacking objects:  80% (8/10)   \rUnpacking objects:  90% (9/10)   \rUnpacking objects: 100% (10/10)   \rUnpacking objects: 100% (10/10), done.\n"
          ]
        }
      ],
      "source": [
        "# Install paramScraper\n",
        "!git clone https://github.com/WASasquatch/colabparamscraper"
      ]
    },
    {
      "cell_type": "code",
      "source": [
        "from colabparamscraper.paramscraper import paramScraper\n",
        "\n",
        "#@markdown ### Food Colors:\n",
        "apple = 'red' #@param{type: 'string'}\n",
        "corn = 'yellow' #@param{type: 'string'}\n",
        "#@markdown ### Vehicle Colors:\n",
        "car = 'red' #@param{type: 'string'}\n",
        "truck = 'blue' #@param{type: 'string'}\n",
        "\n",
        "paramTemplate = {\n",
        "                    'food': { # The section you want to categorize your param matches\n",
        "                        'apple': None, # A param to match to global params\n",
        "                        'corn': None,\n",
        "                    },\n",
        "                    'vehicles': {\n",
        "                        'car': None,\n",
        "                        'truck': None,\n",
        "                    }\n",
        "                }\n",
        "\n",
        "#paramTemplate = {\n",
        "#                    'apple': None, # A param to match to global params\n",
        "#                    'corn': None,\n",
        "#                    'car': None,\n",
        "#                    'truck': None,\n",
        "#                }\n",
        "\n",
        "p = paramScraper(paramTemplate) # Initialize the scraper with a template.\n",
        "\n",
        "print('Settings before scraping:\\n', p.params)\n",
        "p.scrape('food')\n",
        "print('Settings after food scrape:\\n', p.params)\n",
        "p.scrape('vehicles')\n",
        "print('Settings after vehicles scrape:\\n', p.params)\n",
        "\n",
        "print('Template dictionary:\\n', p.template)\n",
        "\n",
        "p.reset()\n",
        "print('Settings after reset:\\n', p.params)"
      ],
      "metadata": {
        "colab": {
          "base_uri": "https://localhost:8080/"
        },
        "id": "eFJP_PTFtGjJ",
        "outputId": "603dbd43-b228-46e1-a096-0868c8048467"
      },
      "execution_count": 12,
      "outputs": [
        {
          "output_type": "stream",
          "name": "stdout",
          "text": [
            "Settings before scraping:\n",
            " {'food': {'apple': None, 'corn': None}, 'vehicles': {'car': None, 'truck': None}}\n",
            "Settings after food scrape:\n",
            " {'food': {'apple': None, 'corn': None}, 'vehicles': {'car': None, 'truck': None}}\n",
            "Settings after vehicles scrape:\n",
            " {'food': {'apple': None, 'corn': None}, 'vehicles': {'car': None, 'truck': None}}\n",
            "Template dictionary:\n",
            " {'food': {'apple': None, 'corn': None}, 'vehicles': {'car': None, 'truck': None}}\n",
            "Settings after reset:\n",
            " {'food': {'apple': None, 'corn': None}, 'vehicles': {'car': None, 'truck': None}}\n"
          ]
        }
      ]
    }
  ]
}
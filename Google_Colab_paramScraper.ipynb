{
  "nbformat": 4,
  "nbformat_minor": 0,
  "metadata": {
    "colab": {
      "provenance": [],
      "collapsed_sections": [],
      "authorship_tag": "ABX9TyPe3zI/f+9nbf1aWrdfasV8",
      "include_colab_link": true
    },
    "kernelspec": {
      "name": "python3",
      "display_name": "Python 3"
    },
    "language_info": {
      "name": "python"
    }
  },
  "cells": [
    {
      "cell_type": "markdown",
      "metadata": {
        "id": "view-in-github",
        "colab_type": "text"
      },
      "source": [
        "<a href=\"https://colab.research.google.com/github/WASasquatch/colabparamscraper/blob/main/Google_Colab_paramScraper.ipynb\" target=\"_parent\"><img src=\"https://colab.research.google.com/assets/colab-badge.svg\" alt=\"Open In Colab\"/></a>"
      ]
    },
    {
      "cell_type": "code",
      "execution_count": 1,
      "metadata": {
        "colab": {
          "base_uri": "https://localhost:8080/"
        },
        "id": "1O_qkcvfsqOS",
        "outputId": "90916fc6-fd05-4ae2-bc6b-b161cc3c966f"
      },
      "outputs": [
        {
          "output_type": "stream",
          "name": "stdout",
          "text": [
            "Cloning into 'colabparamscraper'...\n",
            "remote: Enumerating objects: 25, done.\u001b[K\n",
            "remote: Counting objects: 100% (25/25), done.\u001b[K\n",
            "remote: Compressing objects: 100% (25/25), done.\u001b[K\n",
            "remote: Total 25 (delta 11), reused 0 (delta 0), pack-reused 0\u001b[K\n",
            "Unpacking objects: 100% (25/25), done.\n"
          ]
        }
      ],
      "source": [
        "# Install paramScraper\n",
        "!git clone https://github.com/WASasquatch/colabparamscraper"
      ]
    },
    {
      "cell_type": "code",
      "source": [
        "from colabparamscraper.paramscraper import paramScraper\n",
        "\n",
        "#@markdown ### Food Colors:\n",
        "apple = 'red' #@param{type: 'string'}\n",
        "corn = 'yellow' #@param{type: 'string'}\n",
        "#@markdown ### Vehicle Colors:\n",
        "car = 'red' #@param{type: 'string'}\n",
        "truck = 'blue' #@param{type: 'string'}\n",
        "\n",
        "paramTemplate = {\n",
        "                    'food': { # The section you want to categorize your param matches\n",
        "                        'apple': None, # A param to match to global params\n",
        "                        'corn': None,\n",
        "                    },\n",
        "                    'vehicles': {\n",
        "                        'car': None,\n",
        "                        'truck': None,\n",
        "                    }\n",
        "                }\n",
        "\n",
        "#paramTemplate = {\n",
        "#                    'apple': None, # A param to match to global params\n",
        "#                    'corn': None,\n",
        "#                    'car': None,\n",
        "#                    'truck': None,\n",
        "#                }\n",
        "\n",
        "# Initialize the scraper with a template and base programs globals.\n",
        "p = paramScraper(paramTemplate, globals()) \n",
        "\n",
        "print('Template dictionary:\\n', p.template)\n",
        "print('')\n",
        "\n",
        "print('Settings before scraping:\\n', p.params)\n",
        "p.scrape('food')\n",
        "print('Settings after food scrape:\\n', p.params)\n",
        "p.scrape('vehicles')\n",
        "print('Settings after vehicles scrape:\\n', p.params)\n",
        "print('')\n",
        "\n",
        "p.reset()\n",
        "print('Settings after reset:\\n', p.params)"
      ],
      "metadata": {
        "colab": {
          "base_uri": "https://localhost:8080/"
        },
        "id": "eFJP_PTFtGjJ",
        "outputId": "f3e73d3a-444d-440c-9adb-3e722ad8cd55"
      },
      "execution_count": 3,
      "outputs": [
        {
          "output_type": "stream",
          "name": "stdout",
          "text": [
            "Template dictionary:\n",
            " {'food': {'apple': None, 'corn': None}, 'vehicles': {'car': None, 'truck': None}}\n",
            "\n",
            "Settings before scraping:\n",
            " {'food': {'apple': None, 'corn': None}, 'vehicles': {'car': None, 'truck': None}}\n",
            "Settings after food scrape:\n",
            " {'food': {'apple': 'red', 'corn': 'yellow'}, 'vehicles': {'car': None, 'truck': None}}\n",
            "Settings after vehicles scrape:\n",
            " {'food': {'apple': 'red', 'corn': 'yellow'}, 'vehicles': {'car': 'red', 'truck': 'blue'}}\n",
            "\n",
            "Settings after reset:\n",
            " {'food': {'apple': None, 'corn': None}, 'vehicles': {'car': None, 'truck': None}}\n"
          ]
        }
      ]
    }
  ]
}